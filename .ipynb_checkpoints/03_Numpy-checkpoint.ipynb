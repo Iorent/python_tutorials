{
 "cells": [
  {
   "cell_type": "markdown",
   "metadata": {},
   "source": [
    "<img src=\"images/NumPy_logo.png\">\n",
    "\n",
    "This notebook illustrates basic NumPy usage, a key component of the Python scientific computing stack."
   ]
  },
  {
   "cell_type": "code",
   "execution_count": 8,
   "metadata": {
    "collapsed": false
   },
   "outputs": [
    {
     "name": "stdout",
     "output_type": "stream",
     "text": [
      "Populating the interactive namespace from numpy and matplotlib\n"
     ]
    }
   ],
   "source": [
    "%pylab inline"
   ]
  },
  {
   "cell_type": "markdown",
   "metadata": {},
   "source": [
    "Numpy is a library that supports multi-dimensional arrays and matrices, as well as high level mathematical operations which are not available in the core Python library."
   ]
  },
  {
   "cell_type": "code",
   "execution_count": 4,
   "metadata": {
    "collapsed": true
   },
   "outputs": [],
   "source": [
    "#Arrays can be created from lists, tuples"
   ]
  },
  {
   "cell_type": "code",
   "execution_count": 6,
   "metadata": {
    "collapsed": false
   },
   "outputs": [
    {
     "name": "stdout",
     "output_type": "stream",
     "text": [
      "[1 2 3 4]\n",
      "<type 'numpy.ndarray'>\n"
     ]
    }
   ],
   "source": [
    "#Create a vector\n",
    "x = np.array([1,2,3,4])\n",
    "print(x)\n",
    "print(type(x))"
   ]
  },
  {
   "cell_type": "markdown",
   "metadata": {},
   "source": [
    "Arrays are n-dimensional objects."
   ]
  },
  {
   "cell_type": "code",
   "execution_count": 9,
   "metadata": {
    "collapsed": false
   },
   "outputs": [
    {
     "name": "stdout",
     "output_type": "stream",
     "text": [
      "[[1 2]\n",
      " [3 4]]\n",
      "(2, 2)\n"
     ]
    }
   ],
   "source": [
    "#Create a 2x2 matrix\n",
    "y = np.array([[1,2], [3,4]])\n",
    "print(y)\n",
    "print(y.shape)"
   ]
  },
  {
   "cell_type": "markdown",
   "metadata": {},
   "source": [
    "It is possible to create arrays using a number of different population functions."
   ]
  },
  {
   "cell_type": "markdown",
   "metadata": {},
   "source": [
    "####Arange"
   ]
  },
  {
   "cell_type": "code",
   "execution_count": 14,
   "metadata": {
    "collapsed": false
   },
   "outputs": [
    {
     "name": "stdout",
     "output_type": "stream",
     "text": [
      "[ 0  1  2  3  4  5  6  7  8  9 10 11 12 13 14 15 16 17 18 19 20 21 22 23 24\n",
      " 25 26 27 28 29 30 31 32 33 34 35 36 37 38 39 40 41 42 43 44 45 46 47 48 49\n",
      " 50 51 52 53 54 55 56 57 58 59 60 61 62 63 64 65 66 67 68 69 70 71 72 73 74\n",
      " 75 76 77 78 79 80 81 82 83 84 85 86 87 88 89 90 91 92 93 94 95 96 97 98 99]\n"
     ]
    }
   ],
   "source": [
    "t = np.arange(100) #The only required argument is stop\n",
    "print(t)"
   ]
  },
  {
   "cell_type": "code",
   "execution_count": 15,
   "metadata": {
    "collapsed": false
   },
   "outputs": [
    {
     "name": "stdout",
     "output_type": "stream",
     "text": [
      "[ 0.   0.1  0.2  0.3  0.4  0.5  0.6  0.7  0.8  0.9]\n"
     ]
    }
   ],
   "source": [
    "#You can specify start, stop step\n",
    "t = np.arange(0,1,0.1)\n",
    "print(t)"
   ]
  },
  {
   "cell_type": "code",
   "execution_count": 36,
   "metadata": {
    "collapsed": false
   },
   "outputs": [
    {
     "name": "stdout",
     "output_type": "stream",
     "text": [
      "[[[ 0  1  2  3  4  5  6  7  8  9]\n",
      "  [10 11 12 13 14 15 16 17 18 19]]\n",
      "\n",
      " [[20 21 22 23 24 25 26 27 28 29]\n",
      "  [30 31 32 33 34 35 36 37 38 39]]\n",
      "\n",
      " [[40 41 42 43 44 45 46 47 48 49]\n",
      "  [50 51 52 53 54 55 56 57 58 59]]\n",
      "\n",
      " [[60 61 62 63 64 65 66 67 68 69]\n",
      "  [70 71 72 73 74 75 76 77 78 79]]\n",
      "\n",
      " [[80 81 82 83 84 85 86 87 88 89]\n",
      "  [90 91 92 93 94 95 96 97 98 99]]]\n"
     ]
    }
   ],
   "source": [
    "#For a range of values in a given shape, we can reshape an array\n",
    "x = np.arange(100).reshape(5,2,-1)  #-1 indicates that we want to explicitly specify all but 1 dimension\n",
    "print(x)"
   ]
  },
  {
   "cell_type": "markdown",
   "metadata": {},
   "source": [
    "####A brief interlude comparing arrays to lists\n",
    "Arrays are more flexible than Python lists in some ways, for example the following fails because step is not an integer"
   ]
  },
  {
   "cell_type": "code",
   "execution_count": 17,
   "metadata": {
    "collapsed": false
   },
   "outputs": [
    {
     "ename": "TypeError",
     "evalue": "range() integer step argument expected, got float.",
     "output_type": "error",
     "traceback": [
      "\u001b[0;31m---------------------------------------------------------------------------\u001b[0m",
      "\u001b[0;31mTypeError\u001b[0m                                 Traceback (most recent call last)",
      "\u001b[0;32m<ipython-input-17-4157319bc5fa>\u001b[0m in \u001b[0;36m<module>\u001b[0;34m()\u001b[0m\n\u001b[1;32m      1\u001b[0m \u001b[0;32mfrom\u001b[0m \u001b[0mfuture\u001b[0m\u001b[0;34m.\u001b[0m\u001b[0mutils\u001b[0m \u001b[0;32mimport\u001b[0m \u001b[0mlrange\u001b[0m\u001b[0;34m\u001b[0m\u001b[0m\n\u001b[0;32m----> 2\u001b[0;31m \u001b[0mt\u001b[0m \u001b[0;34m=\u001b[0m \u001b[0mlrange\u001b[0m\u001b[0;34m(\u001b[0m\u001b[0;36m0\u001b[0m\u001b[0;34m,\u001b[0m\u001b[0;36m1\u001b[0m\u001b[0;34m,\u001b[0m \u001b[0;36m0.1\u001b[0m\u001b[0;34m)\u001b[0m\u001b[0;34m\u001b[0m\u001b[0m\n\u001b[0m",
      "\u001b[0;31mTypeError\u001b[0m: range() integer step argument expected, got float."
     ]
    }
   ],
   "source": [
    "from future.utils import lrange\n",
    "t = lrange(0,1, 0.1)"
   ]
  },
  {
   "cell_type": "markdown",
   "metadata": {},
   "source": [
    "Arrays are also more restrictive because the datatype is static (and homogeneous most of the time)."
   ]
  },
  {
   "cell_type": "code",
   "execution_count": 19,
   "metadata": {
    "collapsed": false
   },
   "outputs": [],
   "source": [
    "python_list = [1,'foo', 2.0j, {'a':23}]"
   ]
  },
  {
   "cell_type": "code",
   "execution_count": 23,
   "metadata": {
    "collapsed": false
   },
   "outputs": [
    {
     "data": {
      "text/plain": [
       "dtype('O')"
      ]
     },
     "execution_count": 23,
     "metadata": {},
     "output_type": "execute_result"
    }
   ],
   "source": [
    "numpy_array = np.array([1,'foo', 2.0j, {'a':23}])\n",
    "numpy_array.dtype  #The items are packed but we can not perform any efficient operations."
   ]
  },
  {
   "cell_type": "markdown",
   "metadata": {},
   "source": [
    "####Linspace"
   ]
  },
  {
   "cell_type": "code",
   "execution_count": 13,
   "metadata": {
    "collapsed": false
   },
   "outputs": [
    {
     "name": "stdout",
     "output_type": "stream",
     "text": [
      "[   0.           11.11111111   22.22222222   33.33333333   44.44444444\n",
      "   55.55555556   66.66666667   77.77777778   88.88888889  100.        ]\n"
     ]
    }
   ],
   "source": [
    "t = np.linspace(0,100,10) #Start, stop, n-nodes\n",
    "print(t)"
   ]
  },
  {
   "cell_type": "code",
   "execution_count": 25,
   "metadata": {
    "collapsed": false
   },
   "outputs": [
    {
     "name": "stdout",
     "output_type": "stream",
     "text": [
      "[  1.00000000e+00   6.69104951e+04   4.47701435e+09   2.99559247e+14\n",
      "   2.00436575e+19   1.34113105e+24   8.97357424e+28   6.00426295e+33\n",
      "   4.01748207e+38   2.68811714e+43]\n"
     ]
    }
   ],
   "source": [
    "t = np.logspace(0,100,10, base=np.e)\n",
    "print(t)"
   ]
  },
  {
   "cell_type": "markdown",
   "metadata": {},
   "source": [
    "####Random"
   ]
  },
  {
   "cell_type": "code",
   "execution_count": 27,
   "metadata": {
    "collapsed": false
   },
   "outputs": [
    {
     "name": "stdout",
     "output_type": "stream",
     "text": [
      "[ 0.65128251  0.20839844  0.81349081  0.99826022  0.13846316  0.24893748\n",
      "  0.83937332  0.52853657  0.1241101   0.66352772]\n"
     ]
    }
   ],
   "source": [
    "t = np.random.random(10)  #[0.0, 1.0), uniform distribution\n",
    "print(t)"
   ]
  },
  {
   "cell_type": "code",
   "execution_count": 30,
   "metadata": {
    "collapsed": false
   },
   "outputs": [
    {
     "name": "stdout",
     "output_type": "stream",
     "text": [
      "[[ 0.47569878  0.21167181  0.40638059]\n",
      " [ 0.86584589  0.23330374  0.04844847]\n",
      " [ 0.19591028  0.66726191  0.39651521]]\n",
      "(3, 3)\n"
     ]
    }
   ],
   "source": [
    "t = np.random.random(size=(3,3))\n",
    "print(t)\n",
    "print(t.shape)"
   ]
  },
  {
   "cell_type": "code",
   "execution_count": 34,
   "metadata": {
    "collapsed": false
   },
   "outputs": [
    {
     "name": "stdout",
     "output_type": "stream",
     "text": [
      "[-0.81801088  0.86014563 -0.68356284  0.75712968  0.15342613 -1.25596803\n",
      "  1.66024559 -1.38393262 -0.01491551 -0.62040366]\n"
     ]
    }
   ],
   "source": [
    "t = np.random.standard_normal(10) #Mean=0, STD=1\n",
    "print(t)"
   ]
  },
  {
   "cell_type": "markdown",
   "metadata": {},
   "source": [
    "####Diagonal"
   ]
  },
  {
   "cell_type": "code",
   "execution_count": 38,
   "metadata": {
    "collapsed": false
   },
   "outputs": [
    {
     "name": "stdout",
     "output_type": "stream",
     "text": [
      "[[1 0 0 0]\n",
      " [0 2 0 0]\n",
      " [0 0 3 0]\n",
      " [0 0 0 4]]\n"
     ]
    }
   ],
   "source": [
    "t = np.diag([1,2,3,4])\n",
    "print(t)"
   ]
  },
  {
   "cell_type": "code",
   "execution_count": 39,
   "metadata": {
    "collapsed": false
   },
   "outputs": [
    {
     "name": "stdout",
     "output_type": "stream",
     "text": [
      "[[1 0 0 0]\n",
      " [0 2 0 0]\n",
      " [0 0 3 0]\n",
      " [0 0 0 4]]\n"
     ]
    }
   ],
   "source": [
    "#Or chaining calls\n",
    "t = np.diag(np.arange(1,5))  #Stop is not inclusive\n",
    "print(t)"
   ]
  },
  {
   "cell_type": "markdown",
   "metadata": {},
   "source": [
    "####Eye"
   ]
  },
  {
   "cell_type": "code",
   "execution_count": 42,
   "metadata": {
    "collapsed": false
   },
   "outputs": [
    {
     "name": "stdout",
     "output_type": "stream",
     "text": [
      "[[ 1.  0.  0.  0.]\n",
      " [ 0.  1.  0.  0.]\n",
      " [ 0.  0.  1.  0.]\n",
      " [ 0.  0.  0.  1.]]\n"
     ]
    }
   ],
   "source": [
    "t = np.eye(4)\n",
    "print(t)"
   ]
  },
  {
   "cell_type": "markdown",
   "metadata": {},
   "source": [
    "####Zeros and Ones"
   ]
  },
  {
   "cell_type": "code",
   "execution_count": 45,
   "metadata": {
    "collapsed": false
   },
   "outputs": [
    {
     "name": "stdout",
     "output_type": "stream",
     "text": [
      "[[ 0.  0.  0.]\n",
      " [ 0.  0.  0.]\n",
      " [ 0.  0.  0.]]\n",
      "()\n",
      "[[ 1.  1.  1.]\n",
      " [ 1.  1.  1.]\n",
      " [ 1.  1.  1.]]\n"
     ]
    }
   ],
   "source": [
    "z = np.zeros((3,3))\n",
    "o = np.ones((3,3))\n",
    "print(z)\n",
    "print()\n",
    "print(o)"
   ]
  },
  {
   "cell_type": "markdown",
   "metadata": {},
   "source": [
    "###Indexing and Slicing\n",
    "Frequently, the entirety of a multi-dimensional array is not required.  Just like Python lists, it is possible to access sub-arrays using slicing."
   ]
  },
  {
   "cell_type": "code",
   "execution_count": 52,
   "metadata": {
    "collapsed": false
   },
   "outputs": [
    {
     "name": "stdout",
     "output_type": "stream",
     "text": [
      "[[ 0.73774361  0.0205892   0.84406223  0.37836267  0.69027188]\n",
      " [ 0.72814213  0.95462429  0.41242098  0.96647286  0.87373799]\n",
      " [ 0.8120285   0.00259678  0.74174711  0.48829174  0.13351304]\n",
      " [ 0.15188112  0.83180929  0.70778027  0.29016796  0.82072328]\n",
      " [ 0.98586383  0.77498369  0.07436217  0.76201801  0.32616673]]\n"
     ]
    }
   ],
   "source": [
    "#Create a 5x5 grayscale 'image'\n",
    "data = np.random.random((5,5))\n",
    "print(data)"
   ]
  },
  {
   "cell_type": "code",
   "execution_count": 54,
   "metadata": {
    "collapsed": false
   },
   "outputs": [
    {
     "name": "stdout",
     "output_type": "stream",
     "text": [
      "[ 0.72814213  0.95462429  0.41242098  0.96647286  0.87373799]\n"
     ]
    }
   ],
   "source": [
    "#Access a single 'row'\n",
    "print(data[1])"
   ]
  },
  {
   "cell_type": "code",
   "execution_count": 55,
   "metadata": {
    "collapsed": false
   },
   "outputs": [
    {
     "name": "stdout",
     "output_type": "stream",
     "text": [
      "[ 0.0205892   0.95462429  0.00259678  0.83180929  0.77498369]\n"
     ]
    }
   ],
   "source": [
    "#Access a single 'column'\n",
    "print(data[:,1])"
   ]
  },
  {
   "cell_type": "code",
   "execution_count": 56,
   "metadata": {
    "collapsed": false
   },
   "outputs": [
    {
     "name": "stdout",
     "output_type": "stream",
     "text": [
      "0.73774361087\n"
     ]
    }
   ],
   "source": [
    "#Access a single 'pixel'\n",
    "print(data[0,0])"
   ]
  },
  {
   "cell_type": "code",
   "execution_count": 57,
   "metadata": {
    "collapsed": false
   },
   "outputs": [
    {
     "name": "stdout",
     "output_type": "stream",
     "text": [
      "0.73774361087\n"
     ]
    }
   ],
   "source": [
    "#or\n",
    "print(data[0][0])"
   ]
  },
  {
   "cell_type": "code",
   "execution_count": 58,
   "metadata": {
    "collapsed": false
   },
   "outputs": [
    {
     "name": "stdout",
     "output_type": "stream",
     "text": [
      "[[ 0.15188112  0.83180929  0.70778027  0.29016796  0.82072328]\n",
      " [ 0.98586383  0.77498369  0.07436217  0.76201801  0.32616673]]\n"
     ]
    }
   ],
   "source": [
    "#Access need to be a single row or colum, but can be multiple\n",
    "print(data[3:]) #4th row onward (0 indexed)"
   ]
  },
  {
   "cell_type": "code",
   "execution_count": 60,
   "metadata": {
    "collapsed": false
   },
   "outputs": [
    {
     "name": "stdout",
     "output_type": "stream",
     "text": [
      "[[ 0.37836267  0.69027188]\n",
      " [ 0.96647286  0.87373799]\n",
      " [ 0.48829174  0.13351304]\n",
      " [ 0.29016796  0.82072328]\n",
      " [ 0.76201801  0.32616673]]\n"
     ]
    }
   ],
   "source": [
    "print(data[:,-2:]) #4th column onward using reverse indexing"
   ]
  },
  {
   "cell_type": "code",
   "execution_count": 61,
   "metadata": {
    "collapsed": false
   },
   "outputs": [
    {
     "name": "stdout",
     "output_type": "stream",
     "text": [
      "[[ 0.29016796  0.82072328]\n",
      " [ 0.76201801  0.32616673]]\n"
     ]
    }
   ],
   "source": [
    "#These can be combined\n",
    "print(data[3:,-2:])"
   ]
  },
  {
   "cell_type": "markdown",
   "metadata": {},
   "source": [
    "####Fancy indexing\n",
    "Here we will utilize standard indexing and fancy indexing."
   ]
  },
  {
   "cell_type": "code",
   "execution_count": 64,
   "metadata": {
    "collapsed": false
   },
   "outputs": [
    {
     "name": "stdout",
     "output_type": "stream",
     "text": [
      "[[ 0.96647286  0.87373799]\n",
      " [ 0.48829174  0.13351304]\n",
      " [ 0.76201801  0.32616673]]\n"
     ]
    }
   ],
   "source": [
    "#and explicit\n",
    "print(data[[1,2,4],3:])"
   ]
  },
  {
   "cell_type": "markdown",
   "metadata": {},
   "source": [
    "The list `[1,2,4]` can also be stored in a variable"
   ]
  },
  {
   "cell_type": "code",
   "execution_count": 65,
   "metadata": {
    "collapsed": false
   },
   "outputs": [
    {
     "name": "stdout",
     "output_type": "stream",
     "text": [
      "[[ 0.96647286  0.87373799]\n",
      " [ 0.48829174  0.13351304]\n",
      " [ 0.76201801  0.32616673]]\n"
     ]
    }
   ],
   "source": [
    "idx = [1,2,4]\n",
    "print(data[idx,3:])"
   ]
  },
  {
   "cell_type": "markdown",
   "metadata": {},
   "source": [
    "Indexing and fancying indexing extend to n-dimensions, just as you would expect it to.  For this section we will use a JPEG Apollo 17 image."
   ]
  },
  {
   "cell_type": "code",
   "execution_count": 25,
   "metadata": {
    "collapsed": false
   },
   "outputs": [
    {
     "name": "stdout",
     "output_type": "stream",
     "text": [
      "[[[ 0.81649825  0.02995161  0.10082462  0.19697069  0.82211018]\n",
      "  [ 0.42742297  0.50688864  0.01857562  0.10589608  0.48444024]\n",
      "  [ 0.53985858  0.72019392  0.11174593  0.11423175  0.09196466]\n",
      "  [ 0.03404033  0.88822016  0.1729562   0.08964201  0.80938701]\n",
      "  [ 0.95005861  0.39564868  0.41368477  0.944078    0.05391336]]\n",
      "\n",
      " [[ 0.07411987  0.14528633  0.78483345  0.02712182  0.55830497]\n",
      "  [ 0.43924094  0.05567408  0.24158621  0.19747606  0.30718714]\n",
      "  [ 0.32813924  0.96370962  0.69418208  0.82924537  0.502479  ]\n",
      "  [ 0.23377186  0.37603479  0.00695757  0.86287904  0.11527474]\n",
      "  [ 0.6404687   0.65364601  0.18841309  0.73908529  0.18322738]]\n",
      "\n",
      " [[ 0.62478964  0.41673069  0.7109093   0.18966909  0.58800404]\n",
      "  [ 0.04967404  0.69712321  0.19744441  0.85443252  0.77841484]\n",
      "  [ 0.02319011  0.07914144  0.96849851  0.40833617  0.88441384]\n",
      "  [ 0.49960681  0.84597741  0.15682883  0.11156291  0.46593819]\n",
      "  [ 0.31025696  0.72043174  0.10276895  0.84783057  0.16280479]]]\n"
     ]
    }
   ],
   "source": [
    "data  = np.random.random((3,5,5))\n",
    "print(data)"
   ]
  },
  {
   "cell_type": "code",
   "execution_count": 32,
   "metadata": {
    "collapsed": false
   },
   "outputs": [
    {
     "data": {
      "text/plain": [
       "array([ 0.11174593,  0.69418208,  0.96849851])"
      ]
     },
     "execution_count": 32,
     "metadata": {},
     "output_type": "execute_result"
    }
   ],
   "source": [
    "#In an iPython notebook the print can be omitted....I get tired of typing print\n",
    "data[:, 2, 2]  #Get the center 'pixel' in all 3 'bands'"
   ]
  },
  {
   "cell_type": "code",
   "execution_count": 33,
   "metadata": {
    "collapsed": false
   },
   "outputs": [
    {
     "data": {
      "text/plain": [
       "array([[ 0.50688864,  0.11174593,  0.08964201],\n",
       "       [ 0.05567408,  0.69418208,  0.86287904],\n",
       "       [ 0.69712321,  0.96849851,  0.11156291]])"
      ]
     },
     "execution_count": 33,
     "metadata": {},
     "output_type": "execute_result"
    }
   ],
   "source": [
    "center_box = [1,2,3]\n",
    "data[:, center_box, center_box]"
   ]
  },
  {
   "cell_type": "code",
   "execution_count": 34,
   "metadata": {
    "collapsed": false
   },
   "outputs": [
    {
     "data": {
      "text/plain": [
       "array([[ 0.50688864,  0.11174593,  0.08964201],\n",
       "       [ 0.05567408,  0.69418208,  0.86287904],\n",
       "       [ 0.69712321,  0.96849851,  0.11156291]])"
      ]
     },
     "execution_count": 34,
     "metadata": {},
     "output_type": "execute_result"
    }
   ],
   "source": [
    "#or programmatically\n",
    "center_box = np.arange(1,4)\n",
    "data[:, center_box, center_box]"
   ]
  },
  {
   "cell_type": "markdown",
   "metadata": {},
   "source": [
    "###Masking (Boolean indexing)"
   ]
  },
  {
   "cell_type": "code",
   "execution_count": 37,
   "metadata": {
    "collapsed": false
   },
   "outputs": [
    {
     "data": {
      "text/plain": [
       "array([0, 2, 3])"
      ]
     },
     "execution_count": 37,
     "metadata": {},
     "output_type": "execute_result"
    }
   ],
   "source": [
    "data = np.arange(5)\n",
    "mask = np.array([True, False, True, True, False])\n",
    "data[mask]"
   ]
  },
  {
   "cell_type": "markdown",
   "metadata": {},
   "source": [
    "####Where"
   ]
  },
  {
   "cell_type": "code",
   "execution_count": 42,
   "metadata": {
    "collapsed": false
   },
   "outputs": [
    {
     "name": "stdout",
     "output_type": "stream",
     "text": [
      "(array([0, 0, 0, 1, 1, 1, 1, 1, 2, 2, 2, 2]), array([0, 1, 1, 0, 0, 1, 1, 2, 0, 0, 2, 2]), array([2, 0, 1, 1, 2, 0, 1, 1, 1, 2, 0, 1]))\n"
     ]
    }
   ],
   "source": [
    "data = np.random.random((3,3,3))\n",
    "mask = np.where(data < 0.5)\n",
    "print(mask)"
   ]
  },
  {
   "cell_type": "code",
   "execution_count": 43,
   "metadata": {
    "collapsed": false
   },
   "outputs": [
    {
     "data": {
      "text/plain": [
       "array([ 0.03448906,  0.01448898,  0.45464813,  0.26644401,  0.1202435 ,\n",
       "        0.41065038,  0.27083748,  0.48241413,  0.10458017,  0.30172972,\n",
       "        0.10673157,  0.38808592])"
      ]
     },
     "execution_count": 43,
     "metadata": {},
     "output_type": "execute_result"
    }
   ],
   "source": [
    "data[mask]"
   ]
  },
  {
   "cell_type": "code",
   "execution_count": 44,
   "metadata": {
    "collapsed": true
   },
   "outputs": [],
   "source": [
    "mask = np.where((data < 0.25) | (data > 0.75))"
   ]
  },
  {
   "cell_type": "code",
   "execution_count": 45,
   "metadata": {
    "collapsed": false
   },
   "outputs": [
    {
     "data": {
      "text/plain": [
       "array([ 0.03448906,  0.01448898,  0.93832563,  0.1202435 ,  0.76857415,\n",
       "        0.10458017,  0.89564562,  0.85014542,  0.10673157,  0.80039687])"
      ]
     },
     "execution_count": 45,
     "metadata": {},
     "output_type": "execute_result"
    }
   ],
   "source": [
    "data[mask]"
   ]
  },
  {
   "cell_type": "code",
   "execution_count": 49,
   "metadata": {
    "collapsed": false
   },
   "outputs": [
    {
     "data": {
      "text/plain": [
       "array([[[False, False,  True],\n",
       "        [ True, False, False],\n",
       "        [ True, False, False]],\n",
       "\n",
       "       [[False, False,  True],\n",
       "        [False, False, False],\n",
       "        [False, False, False]],\n",
       "\n",
       "       [[ True,  True, False],\n",
       "        [False,  True,  True],\n",
       "        [ True, False,  True]]], dtype=bool)"
      ]
     },
     "execution_count": 49,
     "metadata": {},
     "output_type": "execute_result"
    }
   ],
   "source": [
    "#Maybe a bit easier to read\n",
    "mask = (data < 0.25) + (data > 0.75)  #Boolean array plus boolean array is a logical or\n",
    "mask"
   ]
  },
  {
   "cell_type": "code",
   "execution_count": 48,
   "metadata": {
    "collapsed": false
   },
   "outputs": [
    {
     "data": {
      "text/plain": [
       "array([ 0.03448906,  0.01448898,  0.93832563,  0.1202435 ,  0.76857415,\n",
       "        0.10458017,  0.89564562,  0.85014542,  0.10673157,  0.80039687])"
      ]
     },
     "execution_count": 48,
     "metadata": {},
     "output_type": "execute_result"
    }
   ],
   "source": [
    "data[mask]"
   ]
  },
  {
   "cell_type": "markdown",
   "metadata": {},
   "source": [
    "###Mathematical operations (Linear Algebra)"
   ]
  },
  {
   "cell_type": "code",
   "execution_count": 54,
   "metadata": {
    "collapsed": false
   },
   "outputs": [
    {
     "name": "stdout",
     "output_type": "stream",
     "text": [
      "('a = ', array([[1, 2],\n",
      "       [3, 4]]))\n",
      "('b = ', array([0, 1, 2, 3]))\n"
     ]
    }
   ],
   "source": [
    "a = np.array([[1,2],[3,4]])\n",
    "b = np.arange(4)\n",
    "print('a = ', a)\n",
    "print('b = ', b)"
   ]
  },
  {
   "cell_type": "code",
   "execution_count": 52,
   "metadata": {
    "collapsed": false
   },
   "outputs": [
    {
     "data": {
      "text/plain": [
       "array([0, 2, 4, 6])"
      ]
     },
     "execution_count": 52,
     "metadata": {},
     "output_type": "execute_result"
    }
   ],
   "source": [
    "b * 2"
   ]
  },
  {
   "cell_type": "code",
   "execution_count": 53,
   "metadata": {
    "collapsed": false
   },
   "outputs": [
    {
     "data": {
      "text/plain": [
       "array([11, 12, 13, 14])"
      ]
     },
     "execution_count": 53,
     "metadata": {},
     "output_type": "execute_result"
    }
   ],
   "source": [
    "b + 11"
   ]
  },
  {
   "cell_type": "markdown",
   "metadata": {},
   "source": [
    "#### Element-wise operations\n",
    "By default, mathematical operation are element-wise"
   ]
  },
  {
   "cell_type": "code",
   "execution_count": 55,
   "metadata": {
    "collapsed": false
   },
   "outputs": [
    {
     "data": {
      "text/plain": [
       "array([[ 1,  4],\n",
       "       [ 9, 16]])"
      ]
     },
     "execution_count": 55,
     "metadata": {},
     "output_type": "execute_result"
    }
   ],
   "source": [
    "a * a"
   ]
  },
  {
   "cell_type": "code",
   "execution_count": 56,
   "metadata": {
    "collapsed": false
   },
   "outputs": [
    {
     "ename": "ValueError",
     "evalue": "operands could not be broadcast together with shapes (2,2) (4,) ",
     "output_type": "error",
     "traceback": [
      "\u001b[0;31m---------------------------------------------------------------------------\u001b[0m",
      "\u001b[0;31mValueError\u001b[0m                                Traceback (most recent call last)",
      "\u001b[0;32m<ipython-input-56-50927f39610b>\u001b[0m in \u001b[0;36m<module>\u001b[0;34m()\u001b[0m\n\u001b[0;32m----> 1\u001b[0;31m \u001b[0ma\u001b[0m \u001b[0;34m*\u001b[0m \u001b[0mb\u001b[0m\u001b[0;34m\u001b[0m\u001b[0m\n\u001b[0m",
      "\u001b[0;31mValueError\u001b[0m: operands could not be broadcast together with shapes (2,2) (4,) "
     ]
    }
   ],
   "source": [
    "a * b  #Shape mismatch causes element-wise operations to fail"
   ]
  },
  {
   "cell_type": "markdown",
   "metadata": {},
   "source": [
    "By multiplying matrices (vectors) with compatible shapes we can cause background broadcasting to occur.  `c` is broadcast to the same dimensionality as `a` and elementwise multiplication is possible."
   ]
  },
  {
   "cell_type": "code",
   "execution_count": 58,
   "metadata": {
    "collapsed": false
   },
   "outputs": [
    {
     "data": {
      "text/plain": [
       "array([[1, 4],\n",
       "       [3, 8]])"
      ]
     },
     "execution_count": 58,
     "metadata": {},
     "output_type": "execute_result"
    }
   ],
   "source": [
    "c = np.arange(1,3)\n",
    "a * c"
   ]
  },
  {
   "cell_type": "markdown",
   "metadata": {},
   "source": [
    "###Matrix multiplication"
   ]
  },
  {
   "cell_type": "code",
   "execution_count": 60,
   "metadata": {
    "collapsed": false
   },
   "outputs": [
    {
     "data": {
      "text/plain": [
       "array([ 5, 11])"
      ]
     },
     "execution_count": 60,
     "metadata": {},
     "output_type": "execute_result"
    }
   ],
   "source": [
    "np.dot(a, c)"
   ]
  },
  {
   "cell_type": "code",
   "execution_count": 61,
   "metadata": {
    "collapsed": false
   },
   "outputs": [
    {
     "data": {
      "text/plain": [
       "array([ 5, 11])"
      ]
     },
     "execution_count": 61,
     "metadata": {},
     "output_type": "execute_result"
    }
   ],
   "source": [
    "#or\n",
    "a.dot(c)"
   ]
  },
  {
   "cell_type": "code",
   "execution_count": 65,
   "metadata": {
    "collapsed": false
   },
   "outputs": [
    {
     "data": {
      "text/plain": [
       "matrix([[ 5],\n",
       "        [11]])"
      ]
     },
     "execution_count": 65,
     "metadata": {},
     "output_type": "execute_result"
    }
   ],
   "source": [
    "#or cast the arrays to matrices\n",
    "ma = np.matrix(a)\n",
    "mc = np.matrix(c).T  #Column and row vectors are distinct\n",
    "ma * mc"
   ]
  },
  {
   "cell_type": "code",
   "execution_count": 68,
   "metadata": {
    "collapsed": false
   },
   "outputs": [
    {
     "data": {
      "text/plain": [
       "matrix([[-2. ,  1. ],\n",
       "        [ 1.5, -0.5]])"
      ]
     },
     "execution_count": 68,
     "metadata": {},
     "output_type": "execute_result"
    }
   ],
   "source": [
    "#Get the inverse\n",
    "ma.I"
   ]
  },
  {
   "cell_type": "code",
   "execution_count": 71,
   "metadata": {
    "collapsed": false
   },
   "outputs": [
    {
     "data": {
      "text/plain": [
       "matrix([[  1.00000000e+00,   0.00000000e+00],\n",
       "        [  2.22044605e-16,   1.00000000e+00]])"
      ]
     },
     "execution_count": 71,
     "metadata": {},
     "output_type": "execute_result"
    }
   ],
   "source": [
    "ma.I * ma"
   ]
  },
  {
   "cell_type": "code",
   "execution_count": 75,
   "metadata": {
    "collapsed": false
   },
   "outputs": [
    {
     "data": {
      "text/plain": [
       "-2.0000000000000004"
      ]
     },
     "execution_count": 75,
     "metadata": {},
     "output_type": "execute_result"
    }
   ],
   "source": [
    "#Or the determinant\n",
    "np.linalg.det(ma)"
   ]
  },
  {
   "cell_type": "markdown",
   "metadata": {},
   "source": [
    "###Iterating over arrays"
   ]
  },
  {
   "cell_type": "code",
   "execution_count": 21,
   "metadata": {
    "collapsed": false
   },
   "outputs": [
    {
     "name": "stdout",
     "output_type": "stream",
     "text": [
      "[[4 3]\n",
      " [6 2]\n",
      " [3 6]\n",
      " [2 2]\n",
      " [6 6]]\n",
      "[4 3]\n",
      "4\n",
      "3\n",
      "[6 2]\n",
      "6\n",
      "2\n",
      "[3 6]\n",
      "3\n",
      "6\n",
      "[2 2]\n",
      "2\n",
      "2\n",
      "[6 6]\n",
      "6\n",
      "6\n"
     ]
    }
   ],
   "source": [
    "data = np.random.randint(0, 10, size=(5,2))\n",
    "print(data)\n",
    "for row in data:\n",
    "    print(row)\n",
    "    for element in row:\n",
    "        print(element)"
   ]
  },
  {
   "cell_type": "code",
   "execution_count": 25,
   "metadata": {
    "collapsed": false
   },
   "outputs": [
    {
     "name": "stdout",
     "output_type": "stream",
     "text": [
      "(0, array([4, 3]))\n",
      "(0, 0, 4)\n",
      "(0, 1, 3)\n",
      "(1, array([6, 2]))\n",
      "(1, 0, 6)\n",
      "(1, 1, 2)\n",
      "(2, array([3, 6]))\n",
      "(2, 0, 3)\n",
      "(2, 1, 6)\n",
      "(3, array([2, 2]))\n",
      "(3, 0, 2)\n",
      "(3, 1, 2)\n",
      "(4, array([6, 6]))\n",
      "(4, 0, 6)\n",
      "(4, 1, 6)\n"
     ]
    }
   ],
   "source": [
    "#Sometimes it is convenient to have both the value and the index\n",
    "for i, row in enumerate(data):\n",
    "    print(i, row)\n",
    "    for j, element in enumerate(row):\n",
    "        print(i, j, element)\n"
   ]
  },
  {
   "cell_type": "markdown",
   "metadata": {},
   "source": [
    "### Vectorization\n",
    "NumPy is most performant when working on matrices and/or vectors, as opposed to elementwise operations. \n",
    "\n",
    "The term vectorization refers to the application of some operand to multiple data elements such that the CPU can leverage what is esentially inherent parallelism."
   ]
  },
  {
   "cell_type": "code",
   "execution_count": 6,
   "metadata": {
    "collapsed": false
   },
   "outputs": [
    {
     "name": "stdout",
     "output_type": "stream",
     "text": [
      "100 loops, best of 3: 8.09 ms per loop\n"
     ]
    }
   ],
   "source": [
    "#We have to short circuit the built-in sum call because iPython automatically loads the numpy sum.\n",
    "from future.utils import lrange\n",
    "x = lrange(int(1e5))\n",
    "\n",
    "def pythonsum(x):\n",
    "    total = 0\n",
    "    for i in x:\n",
    "        total += i\n",
    "    return total\n",
    "\n",
    "%timeit pythonsum(x)"
   ]
  },
  {
   "cell_type": "code",
   "execution_count": 10,
   "metadata": {
    "collapsed": false
   },
   "outputs": [
    {
     "name": "stdout",
     "output_type": "stream",
     "text": [
      "10000 loops, best of 3: 102 µs per loop\n"
     ]
    }
   ],
   "source": [
    "x = np.arange(1e5, dtype=np.int)\n",
    "%timeit np.sum(x)"
   ]
  },
  {
   "cell_type": "markdown",
   "metadata": {
    "collapsed": true
   },
   "source": [
    "This is a simplistic case where a for loop has been replaced with a single SIMD call.  More complex vectorization requires the use of indexing and slicing to avoid for loops.  Checkout [this optimization notebook](http://scipy-lectures.github.io/advanced/optimizing/) for a bit more info if you are interested or chat with me if you have some specific interests."
   ]
  }
 ],
 "metadata": {
  "kernelspec": {
   "display_name": "Python 2",
   "language": "python",
   "name": "python2"
  },
  "language_info": {
   "codemirror_mode": {
    "name": "ipython",
    "version": 2
   },
   "file_extension": ".py",
   "mimetype": "text/x-python",
   "name": "python",
   "nbconvert_exporter": "python",
   "pygments_lexer": "ipython2",
   "version": "2.7.10"
  }
 },
 "nbformat": 4,
 "nbformat_minor": 0
}
